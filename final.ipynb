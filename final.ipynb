howdy_planet = "Howdy Planet"

print(howdy_ planet)

directions = ["North", "South", "East", "West"]

for direction in Directions:
    print(directions [1])
